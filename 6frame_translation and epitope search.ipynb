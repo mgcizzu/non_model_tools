{
 "cells": [
  {
   "cell_type": "markdown",
   "metadata": {},
   "source": [
    "## This notebook produces a 6-frames translation of a given transcriptome and find antibody crossreactivity, provided a list of epitopes recognised by epitope-mapped monoclonal antibodies."
   ]
  },
  {
   "cell_type": "code",
   "execution_count": null,
   "metadata": {},
   "outputs": [],
   "source": [
    "# Import necessary stuff\n",
    "import pandas as pd \n",
    "from pandas import DataFrame\n",
    "#from Bio.Seq import SeqIO\n",
    "#import matplotlib.pyplot as plt\n",
    "\n",
    "import Bio\n",
    "from Bio import SeqIO\n"
   ]
  },
  {
   "cell_type": "code",
   "execution_count": null,
   "metadata": {},
   "outputs": [],
   "source": [
    "import os\n",
    "import pandas as pd \n",
    "from pandas import DataFrame\n",
    "from Bio import SeqIO\n",
    "\n",
    "# Genetic code dictionary\n",
    "gencode = {\n",
    "    'ATA':'I', 'ATC':'I', 'ATT':'I', 'ATG':'M',\n",
    "    'ACA':'T', 'ACC':'T', 'ACG':'T', 'ACT':'T',\n",
    "    'AAC':'N', 'AAT':'N', 'AAA':'K', 'AAG':'K',\n",
    "    'AGC':'S', 'AGT':'S', 'AGA':'R', 'AGG':'R',\n",
    "    'CTA':'L', 'CTC':'L', 'CTG':'L', 'CTT':'L',\n",
    "    'CCA':'P', 'CCC':'P', 'CCG':'P', 'CCT':'P',\n",
    "    'CAC':'H', 'CAT':'H', 'CAA':'Q', 'CAG':'Q',\n",
    "    'CGA':'R', 'CGC':'R', 'CGG':'R', 'CGT':'R',\n",
    "    'GTA':'V', 'GTC':'V', 'GTG':'V', 'GTT':'V',\n",
    "    'GCA':'A', 'GCC':'A', 'GCG':'A', 'GCT':'A',\n",
    "    'GAC':'D', 'GAT':'D', 'GAA':'E', 'GAG':'E',\n",
    "    'GGA':'G', 'GGC':'G', 'GGG':'G', 'GGT':'G',\n",
    "    'TCA':'S', 'TCC':'S', 'TCG':'S', 'TCT':'S',\n",
    "    'TTC':'F', 'TTT':'F', 'TTA':'L', 'TTG':'L',\n",
    "    'TAC':'Y', 'TAT':'Y', 'TAA':'_', 'TAG':'_',\n",
    "    'TGC':'C', 'TGT':'C', 'TGA':'_', 'TGG':'W'\n",
    "}\n",
    "\n",
    "# Base pair complements\n",
    "basepairs = {'A':'T', 'C':'G', 'G':'C', 'T':'A'}\n",
    "\n",
    "def translate_frameshifted(sequence):\n",
    "    \"\"\"Translate a nucleotide sequence in frameshifted fashion.\"\"\"\n",
    "    translate = ''.join([gencode.get(sequence[3*i:3*i+3], 'X') for i in range(len(sequence)//3)])\n",
    "    return translate\n",
    "\n",
    "def reverse_complement(sequence):\n",
    "    \"\"\"Generate the reverse complement of a DNA sequence.\"\"\"\n",
    "    reversed_sequence = sequence[::-1]\n",
    "    rc = ''.join([basepairs.get(reversed_sequence[i], 'X') for i in range(len(sequence))])\n",
    "    return rc\n",
    "\n",
    "def append_new_line(file_name, text_to_append):\n",
    "    \"\"\"Append given text as a new line at the end of file.\"\"\"\n",
    "    with open(file_name, \"a+\") as file_object:\n",
    "        file_object.seek(0)\n",
    "        data = file_object.read(100)\n",
    "        if len(data) > 0:\n",
    "            file_object.write(\"\\n\")\n",
    "        file_object.write(text_to_append)\n",
    "\n"
   ]
  },
  {
   "cell_type": "code",
   "execution_count": null,
   "metadata": {},
   "outputs": [],
   "source": [
    "# Define the output directory (edit this variable to change the location)\n",
    "output_folder = \"/path/to/your/output/folder\"\n",
    "\n",
    "# Ensure the directory exists\n",
    "if not os.path.exists(output_folder):\n",
    "    os.makedirs(output_folder)\n",
    "\n",
    "# Define the output file path\n",
    "output_file_path = os.path.join(output_folder, \"output6frame.txt\")\n",
    "\n",
    "# Process fasta sequences\n",
    "# SPECIFY THE INPUT TRANSCRIPTOME HERE!!!!\n",
    "\n",
    "for seq_record in SeqIO.parse(\"/Users/marco.grillo/Desktop/ncbi-blast-2.12.0+/bin/Paroedura_picta_denovo_transcriptome.fasta\", \"fasta\"):\n",
    "    t1 = translate_frameshifted(seq_record.seq[0:])  # First frame\n",
    "    t2 = translate_frameshifted(seq_record.seq[1:])  # Second frame\n",
    "    t3 = translate_frameshifted(seq_record.seq[2:])  # Third frame\n",
    "    t4 = translate_frameshifted(reverse_complement(seq_record.seq))  # Negative first frame\n",
    "    t5 = translate_frameshifted(reverse_complement(seq_record.seq[:len(seq_record.seq)-1]))  # Negative second frame\n",
    "    t6 = translate_frameshifted(reverse_complement(seq_record.seq[:len(seq_record.seq)-2]))  # Negative third frame\n",
    "\n",
    "    header1 = \">\" + seq_record.name\n",
    "    append_new_line(output_file_path, header1)\n",
    "    append_new_line(output_file_path, t1)\n",
    "    append_new_line(output_file_path, header1)\n",
    "    append_new_line(output_file_path, t2)\n",
    "    append_new_line(output_file_path, header1)\n",
    "    append_new_line(output_file_path, t3)\n",
    "    append_new_line(output_file_path, header1)\n",
    "    append_new_line(output_file_path, t4)\n",
    "    append_new_line(output_file_path, header1)\n",
    "    append_new_line(output_file_path, t5)\n",
    "    append_new_line(output_file_path, header1)\n",
    "    append_new_line(output_file_path, t6)\n",
    "\n",
    "print(f\"Output saved in: {output_file_path}\")"
   ]
  },
  {
   "cell_type": "markdown",
   "metadata": {},
   "source": [
    "### Read the epitope list"
   ]
  },
  {
   "cell_type": "code",
   "execution_count": null,
   "metadata": {},
   "outputs": [],
   "source": [
    "# This opens the file with the epitope sequences\n",
    "bcf = pd.read_csv(\"/Users/marco.grillo/Desktop/mab_antigen_epitope_data_20210909_2.csv\", sep=\";\") \n",
    "filtered_bcf = bcf.dropna(subset=['epitope_specificity'])\n",
    "#filtered_bcf.apply(print(filtered_bcf['epitope_specificity']))"
   ]
  },
  {
   "cell_type": "markdown",
   "metadata": {},
   "source": [
    "### You will need to read the 6-frame translation again here as input_file\n",
    "\n",
    "### Alternatively, if you have a pre-computed proteome fasta, you can just input it here and skip the 6-frame translation above"
   ]
  },
  {
   "cell_type": "code",
   "execution_count": null,
   "metadata": {},
   "outputs": [],
   "source": [
    "from Bio import SeqIO\n",
    "input_file = \"/Users/marco.grillo/Dropbox/Work@Nilsson/Useful Jupyter notebook/output6frame.txt\"\n",
    "#output_file = \"hits.txt\"\n",
    "column_names = [\"epitope\", \"target\"]\n",
    "functional_epitopes = pd.DataFrame (columns = column_names)\n",
    "# The next line is a Python generator expression - memory efficient!\n",
    "e=0\n",
    "for epitope in filtered_bcf['epitope_specificity']:\n",
    "    e=e+1\n",
    "    print('checking epitope number:'+ str(e))\n",
    "    x=0\n",
    "    for r in SeqIO.parse(input_file, \"fasta\"):\n",
    "        x=x+1\n",
    "        #print ('looking against sequence: '+str(x))\n",
    "        y=0\n",
    "        if epitope in r.seq.upper():\n",
    "            y=y+1\n",
    "            print ('found'+ str(y))\n",
    "            functional_epitopes = functional_epitopes.append({\"epitope\": epitope, \"target\": r.id}, ignore_index=True)"
   ]
  },
  {
   "cell_type": "markdown",
   "metadata": {},
   "source": [
    "### Save your epitope list, alongside their predicted hits"
   ]
  },
  {
   "cell_type": "code",
   "execution_count": null,
   "metadata": {},
   "outputs": [],
   "source": [
    "output = pd.DataFrame()\n",
    "for fep in functional_epitopes['epitope']:\n",
    "    output =output.append( filtered_bcf.loc[filtered_bcf['epitope_specificity'] == fep])\n",
    "output.to_csv('/Users/marco.grillo/Dropbox/Work@Nilsson/Useful Jupyter notebook/gecko_Atlas.csv')\n",
    "#print(output.gene_name.unique())\n",
    "#len(output.gene_name.unique())"
   ]
  }
 ],
 "metadata": {
  "language_info": {
   "name": "python"
  }
 },
 "nbformat": 4,
 "nbformat_minor": 2
}
